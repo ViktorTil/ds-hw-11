{
  "nbformat": 4,
  "nbformat_minor": 0,
  "metadata": {
    "colab": {
      "provenance": []
    },
    "kernelspec": {
      "name": "python3",
      "display_name": "Python 3"
    },
    "language_info": {
      "name": "python"
    }
  },
  "cells": [
    {
      "cell_type": "code",
      "source": [
        "from keras.datasets import imdb\n",
        "from keras.preprocessing import sequence\n",
        "from keras.models import Sequential\n",
        "from keras.layers import SimpleRNN, Embedding, LSTM, Dense, Bidirectional"
      ],
      "metadata": {
        "id": "GfvMHUrVK1zW"
      },
      "execution_count": 3,
      "outputs": []
    },
    {
      "cell_type": "code",
      "source": [
        "max_features = 10000\n",
        "maxlen = 500\n",
        "\n",
        "print('Загрузка данных...')\n",
        "(input_train, y_train), (input_test, y_test) = imdb.load_data(num_words=max_features)\n",
        "print(len(input_train), 'тренировочных')\n",
        "print(len(input_test), 'тестовых')\n",
        "\n",
        "print('Подготовка данных...')\n",
        "input_train = sequence.pad_sequences(input_train, maxlen=maxlen)\n",
        "input_test = sequence.pad_sequences(input_test, maxlen=maxlen)\n",
        "print('input_train shape:', input_train.shape)\n",
        "print('input_test shape:', input_test.shape)"
      ],
      "metadata": {
        "colab": {
          "base_uri": "https://localhost:8080/"
        },
        "id": "aEvFwCxzLcz0",
        "outputId": "6d71fc2d-0bca-4d52-d9db-7e35f56da13a"
      },
      "execution_count": 4,
      "outputs": [
        {
          "output_type": "stream",
          "name": "stdout",
          "text": [
            "Загрузка данных...\n",
            "Downloading data from https://storage.googleapis.com/tensorflow/tf-keras-datasets/imdb.npz\n",
            "17464789/17464789 [==============================] - 0s 0us/step\n",
            "25000 тренировочных\n",
            "25000 тестовых\n",
            "Подготовка данных...\n",
            "input_train shape: (25000, 500)\n",
            "input_test shape: (25000, 500)\n"
          ]
        }
      ]
    },
    {
      "cell_type": "markdown",
      "source": [
        "\n",
        "Простая рекуррентная нейронная сеть (SimpleRNN)"
      ],
      "metadata": {
        "id": "vneogsBLx4-U"
      }
    },
    {
      "cell_type": "code",
      "source": [
        "model_rnn = Sequential()\n",
        "model_rnn.add(Embedding(max_features, 32))\n",
        "model_rnn.add(SimpleRNN(32))\n",
        "model_rnn.add(Dense(1, activation='sigmoid'))\n",
        "\n",
        "model_rnn.compile(optimizer='rmsprop',\n",
        "                  loss='binary_crossentropy',\n",
        "                  metrics=['acc'])"
      ],
      "metadata": {
        "id": "3ViEJYF9kttQ"
      },
      "execution_count": 5,
      "outputs": []
    },
    {
      "cell_type": "code",
      "source": [
        "print('Обучение модели с использованием SimpleRNN...')\n",
        "history_rnn = model_rnn.fit(input_train, y_train,\n",
        "                            epochs=10,\n",
        "                            batch_size=128,\n",
        "                            validation_split=0.2)\n",
        "\n",
        "test_loss_rnn, test_acc_rnn = model_rnn.evaluate(input_test, y_test)\n",
        "print('Test accuracy (SimpleRNN):', test_acc_rnn)\n"
      ],
      "metadata": {
        "colab": {
          "base_uri": "https://localhost:8080/"
        },
        "id": "BTSjwbW-xwHQ",
        "outputId": "7cf5acb3-feb7-4d9d-d189-cd30fd94a862"
      },
      "execution_count": 6,
      "outputs": [
        {
          "output_type": "stream",
          "name": "stdout",
          "text": [
            "Обучение модели с использованием SimpleRNN...\n",
            "Epoch 1/10\n",
            "157/157 [==============================] - 28s 169ms/step - loss: 0.6597 - acc: 0.5978 - val_loss: 0.5729 - val_acc: 0.7150\n",
            "Epoch 2/10\n",
            "157/157 [==============================] - 30s 189ms/step - loss: 0.4432 - acc: 0.8071 - val_loss: 0.4480 - val_acc: 0.8042\n",
            "Epoch 3/10\n",
            "157/157 [==============================] - 26s 169ms/step - loss: 0.3223 - acc: 0.8683 - val_loss: 0.4791 - val_acc: 0.8076\n",
            "Epoch 4/10\n",
            "157/157 [==============================] - 27s 174ms/step - loss: 0.2696 - acc: 0.8940 - val_loss: 0.3708 - val_acc: 0.8464\n",
            "Epoch 5/10\n",
            "157/157 [==============================] - 25s 158ms/step - loss: 0.2255 - acc: 0.9125 - val_loss: 0.4240 - val_acc: 0.8240\n",
            "Epoch 6/10\n",
            "157/157 [==============================] - 30s 192ms/step - loss: 0.1642 - acc: 0.9406 - val_loss: 0.4496 - val_acc: 0.8166\n",
            "Epoch 7/10\n",
            "157/157 [==============================] - 31s 199ms/step - loss: 0.1085 - acc: 0.9625 - val_loss: 0.4521 - val_acc: 0.8406\n",
            "Epoch 8/10\n",
            "157/157 [==============================] - 25s 162ms/step - loss: 0.0723 - acc: 0.9776 - val_loss: 0.4979 - val_acc: 0.8392\n",
            "Epoch 9/10\n",
            "157/157 [==============================] - 25s 160ms/step - loss: 0.0542 - acc: 0.9832 - val_loss: 0.5332 - val_acc: 0.8480\n",
            "Epoch 10/10\n",
            "157/157 [==============================] - 26s 167ms/step - loss: 0.0374 - acc: 0.9887 - val_loss: 0.5851 - val_acc: 0.8344\n",
            "782/782 [==============================] - 21s 26ms/step - loss: 0.5980 - acc: 0.8304\n",
            "Test accuracy (SimpleRNN): 0.8303999900817871\n"
          ]
        }
      ]
    },
    {
      "cell_type": "markdown",
      "source": [
        "GRU:"
      ],
      "metadata": {
        "id": "uqpwBw9WIurk"
      }
    },
    {
      "cell_type": "code",
      "source": [
        "from keras.layers import GRU"
      ],
      "metadata": {
        "id": "TQRtXzjGlEX1"
      },
      "execution_count": 7,
      "outputs": []
    },
    {
      "cell_type": "code",
      "source": [
        "model_gru = Sequential()\n",
        "model_gru.add(Embedding(max_features, 32))\n",
        "model_gru.add(GRU(32))\n",
        "model_gru.add(Dense(1, activation='sigmoid'))\n",
        "\n",
        "model_gru.compile(optimizer='rmsprop',\n",
        "                  loss='binary_crossentropy',\n",
        "                  metrics=['acc'])"
      ],
      "metadata": {
        "id": "VyNZrezMlD_d"
      },
      "execution_count": 8,
      "outputs": []
    },
    {
      "cell_type": "code",
      "source": [
        "print('Обучение модели с использованием GRU...')\n",
        "history_gru = model_gru.fit(input_train, y_train,\n",
        "                            epochs=10,\n",
        "                            batch_size=128,\n",
        "                            validation_split=0.2)\n",
        "\n",
        "\n",
        "test_loss_gru, test_acc_gru = model_gru.evaluate(input_test, y_test)\n",
        "print('Test accuracy (GRU):', test_acc_gru)\n"
      ],
      "metadata": {
        "colab": {
          "base_uri": "https://localhost:8080/"
        },
        "id": "PmzOn2gOyCbq",
        "outputId": "2be2881a-990a-454b-b424-9f42488401fe"
      },
      "execution_count": 9,
      "outputs": [
        {
          "output_type": "stream",
          "name": "stdout",
          "text": [
            "Обучение модели с использованием GRU...\n",
            "Epoch 1/10\n",
            "157/157 [==============================] - 64s 395ms/step - loss: 0.6125 - acc: 0.6419 - val_loss: 0.8204 - val_acc: 0.6654\n",
            "Epoch 2/10\n",
            "157/157 [==============================] - 52s 329ms/step - loss: 0.3557 - acc: 0.8465 - val_loss: 0.3369 - val_acc: 0.8570\n",
            "Epoch 3/10\n",
            "157/157 [==============================] - 61s 392ms/step - loss: 0.2747 - acc: 0.8923 - val_loss: 0.4858 - val_acc: 0.7948\n",
            "Epoch 4/10\n",
            "157/157 [==============================] - 59s 374ms/step - loss: 0.2411 - acc: 0.9072 - val_loss: 0.3508 - val_acc: 0.8602\n",
            "Epoch 5/10\n",
            "157/157 [==============================] - 59s 377ms/step - loss: 0.2139 - acc: 0.9184 - val_loss: 0.5167 - val_acc: 0.8028\n",
            "Epoch 6/10\n",
            "157/157 [==============================] - 54s 347ms/step - loss: 0.1945 - acc: 0.9275 - val_loss: 0.3231 - val_acc: 0.8636\n",
            "Epoch 7/10\n",
            "157/157 [==============================] - 58s 368ms/step - loss: 0.1731 - acc: 0.9376 - val_loss: 0.3879 - val_acc: 0.8490\n",
            "Epoch 8/10\n",
            "157/157 [==============================] - 56s 357ms/step - loss: 0.1630 - acc: 0.9419 - val_loss: 0.3717 - val_acc: 0.8608\n",
            "Epoch 9/10\n",
            "157/157 [==============================] - 63s 402ms/step - loss: 0.1506 - acc: 0.9458 - val_loss: 0.3527 - val_acc: 0.8710\n",
            "Epoch 10/10\n",
            "157/157 [==============================] - 54s 344ms/step - loss: 0.1349 - acc: 0.9517 - val_loss: 0.3841 - val_acc: 0.8690\n",
            "782/782 [==============================] - 41s 53ms/step - loss: 0.4061 - acc: 0.8636\n",
            "Test accuracy (GRU): 0.8635600209236145\n"
          ]
        }
      ]
    },
    {
      "cell_type": "markdown",
      "source": [
        "Углубленная простая рекуррентная нейронная сеть (Deep SimpleRNN)"
      ],
      "metadata": {
        "id": "zZ25PDrRh0hA"
      }
    },
    {
      "cell_type": "code",
      "source": [
        "model_deep_simple_rnn = Sequential()\n",
        "model_deep_simple_rnn.add(Embedding(max_features, 32))\n",
        "model_deep_simple_rnn.add(SimpleRNN(32, return_sequences=True))\n",
        "model_deep_simple_rnn.add(SimpleRNN(32))\n",
        "model_deep_simple_rnn.add(Dense(1, activation='sigmoid'))\n",
        "\n",
        "model_deep_simple_rnn.compile(optimizer='rmsprop', loss='binary_crossentropy', metrics=['acc'])"
      ],
      "metadata": {
        "id": "M-Js_aVRsWtA"
      },
      "execution_count": 10,
      "outputs": []
    },
    {
      "cell_type": "code",
      "source": [
        "print('Обучение модели с использованием Deep SimpleRNN...')\n",
        "history_deep_simple_rnn = model_deep_simple_rnn.fit(input_train, y_train,\n",
        "                            epochs=10,\n",
        "                            batch_size=128,\n",
        "                            validation_split=0.2)\n",
        "\n",
        "\n",
        "test_loss_deep_rnn, test_acc_deep_rnn = model_deep_simple_rnn.evaluate(input_test, y_test)\n",
        "print('Test accuracy (Deep SimpleRNN):', test_acc_deep_rnn)"
      ],
      "metadata": {
        "colab": {
          "base_uri": "https://localhost:8080/"
        },
        "id": "G7JXwMZqsy8L",
        "outputId": "1202bfdf-15ed-46ec-d9e4-6cefddc1dde6"
      },
      "execution_count": 11,
      "outputs": [
        {
          "output_type": "stream",
          "name": "stdout",
          "text": [
            "Обучение модели с использованием Deep SimpleRNN...\n",
            "Epoch 1/10\n",
            "157/157 [==============================] - 62s 381ms/step - loss: 0.6457 - acc: 0.6031 - val_loss: 0.4283 - val_acc: 0.8102\n",
            "Epoch 2/10\n",
            "157/157 [==============================] - 55s 347ms/step - loss: 0.3819 - acc: 0.8345 - val_loss: 0.4189 - val_acc: 0.8182\n",
            "Epoch 3/10\n",
            "157/157 [==============================] - 50s 316ms/step - loss: 0.2755 - acc: 0.8879 - val_loss: 0.4269 - val_acc: 0.8164\n",
            "Epoch 4/10\n",
            "157/157 [==============================] - 49s 316ms/step - loss: 0.1991 - acc: 0.9255 - val_loss: 0.4571 - val_acc: 0.8176\n",
            "Epoch 5/10\n",
            "157/157 [==============================] - 51s 322ms/step - loss: 0.1126 - acc: 0.9604 - val_loss: 0.6938 - val_acc: 0.7346\n",
            "Epoch 6/10\n",
            "157/157 [==============================] - 49s 315ms/step - loss: 0.0569 - acc: 0.9823 - val_loss: 0.8799 - val_acc: 0.8010\n",
            "Epoch 7/10\n",
            "157/157 [==============================] - 50s 318ms/step - loss: 0.0314 - acc: 0.9908 - val_loss: 0.7116 - val_acc: 0.8124\n",
            "Epoch 8/10\n",
            "157/157 [==============================] - 49s 310ms/step - loss: 0.0228 - acc: 0.9935 - val_loss: 0.8877 - val_acc: 0.7926\n",
            "Epoch 9/10\n",
            "157/157 [==============================] - 49s 308ms/step - loss: 0.0107 - acc: 0.9969 - val_loss: 1.0434 - val_acc: 0.7648\n",
            "Epoch 10/10\n",
            "157/157 [==============================] - 49s 310ms/step - loss: 0.0085 - acc: 0.9977 - val_loss: 0.9650 - val_acc: 0.7996\n",
            "782/782 [==============================] - 40s 51ms/step - loss: 1.0110 - acc: 0.7918\n",
            "Test accuracy (Deep SimpleRNN): 0.7918400168418884\n"
          ]
        }
      ]
    },
    {
      "cell_type": "markdown",
      "source": [
        "Двунаправленная рекуррентная нейронная сеть (Bidirectional SimpleRNN)"
      ],
      "metadata": {
        "id": "LMB9LbSmjPKJ"
      }
    },
    {
      "cell_type": "code",
      "source": [
        "model_bidirectional_simple_rnn = Sequential()\n",
        "model_bidirectional_simple_rnn.add(Embedding(max_features, 32))\n",
        "model_bidirectional_simple_rnn.add(Bidirectional(SimpleRNN(32)))\n",
        "model_bidirectional_simple_rnn.add(Dense(1, activation='sigmoid'))\n",
        "\n",
        "model_bidirectional_simple_rnn.compile(optimizer='rmsprop', loss='binary_crossentropy', metrics=['acc'])"
      ],
      "metadata": {
        "id": "jz97xXBFsaAw"
      },
      "execution_count": 12,
      "outputs": []
    },
    {
      "cell_type": "code",
      "source": [
        "print('Обучение модели с использованием Bidirectional SimpleRNN...')\n",
        "history_bidirectional_simple_rnn = model_bidirectional_simple_rnn.fit(input_train, y_train,\n",
        "                            epochs=10,\n",
        "                            batch_size=128,\n",
        "                            validation_split=0.2)\n",
        "\n",
        "test_loss_bi_rnn, test_acc_bi_rnn = model_bidirectional_simple_rnn.evaluate(input_test, y_test)\n",
        "print('Test accuracy (Bidirectional SimpleRNN):', test_acc_bi_rnn)"
      ],
      "metadata": {
        "colab": {
          "base_uri": "https://localhost:8080/"
        },
        "id": "ogmZ1PNotIM0",
        "outputId": "de84b8b5-270a-4d3b-e1da-5906d86ff215"
      },
      "execution_count": 13,
      "outputs": [
        {
          "output_type": "stream",
          "name": "stdout",
          "text": [
            "Обучение модели с использованием Bidirectional SimpleRNN...\n",
            "Epoch 1/10\n",
            "157/157 [==============================] - 51s 309ms/step - loss: 0.6540 - acc: 0.6017 - val_loss: 0.5510 - val_acc: 0.7372\n",
            "Epoch 2/10\n",
            "157/157 [==============================] - 50s 317ms/step - loss: 0.4335 - acc: 0.8126 - val_loss: 0.4121 - val_acc: 0.8160\n",
            "Epoch 3/10\n",
            "157/157 [==============================] - 51s 324ms/step - loss: 0.3289 - acc: 0.8654 - val_loss: 0.3927 - val_acc: 0.8292\n",
            "Epoch 4/10\n",
            "157/157 [==============================] - 49s 312ms/step - loss: 0.2627 - acc: 0.8974 - val_loss: 0.5112 - val_acc: 0.7472\n",
            "Epoch 5/10\n",
            "157/157 [==============================] - 49s 315ms/step - loss: 0.2108 - acc: 0.9226 - val_loss: 0.4006 - val_acc: 0.8538\n",
            "Epoch 6/10\n",
            "157/157 [==============================] - 52s 328ms/step - loss: 0.1675 - acc: 0.9413 - val_loss: 0.4474 - val_acc: 0.8614\n",
            "Epoch 7/10\n",
            "157/157 [==============================] - 48s 308ms/step - loss: 0.1262 - acc: 0.9581 - val_loss: 0.4934 - val_acc: 0.8286\n",
            "Epoch 8/10\n",
            "157/157 [==============================] - 50s 316ms/step - loss: 0.0814 - acc: 0.9744 - val_loss: 0.4858 - val_acc: 0.8290\n",
            "Epoch 9/10\n",
            "157/157 [==============================] - 49s 313ms/step - loss: 0.0543 - acc: 0.9840 - val_loss: 0.5188 - val_acc: 0.8386\n",
            "Epoch 10/10\n",
            "157/157 [==============================] - 49s 313ms/step - loss: 0.0406 - acc: 0.9889 - val_loss: 0.5968 - val_acc: 0.8426\n",
            "782/782 [==============================] - 33s 42ms/step - loss: 0.5762 - acc: 0.8468\n",
            "Test accuracy (Bidirectional SimpleRNN): 0.8467599749565125\n"
          ]
        }
      ]
    },
    {
      "cell_type": "markdown",
      "source": [
        "Углубленная двунаправленная рекуррентная нейронная сеть (Deep Bidirectional SimpleRNN)"
      ],
      "metadata": {
        "id": "pMB2YxxSjkRI"
      }
    },
    {
      "cell_type": "code",
      "source": [
        "model_deep_bidirectional_simple_rnn = Sequential()\n",
        "model_deep_bidirectional_simple_rnn.add(Embedding(max_features, 32))\n",
        "model_deep_bidirectional_simple_rnn.add(Bidirectional(SimpleRNN(32, return_sequences=True)))\n",
        "model_deep_bidirectional_simple_rnn.add(Bidirectional(SimpleRNN(32)))\n",
        "model_deep_bidirectional_simple_rnn.add(Dense(1, activation='sigmoid'))\n",
        "\n",
        "model_deep_bidirectional_simple_rnn.compile(optimizer='rmsprop', loss='binary_crossentropy', metrics=['acc'])"
      ],
      "metadata": {
        "id": "i6c_1zTAsdTS"
      },
      "execution_count": 14,
      "outputs": []
    },
    {
      "cell_type": "code",
      "source": [
        "print('Обучение модели с использованием Deep Bidirectional SimpleRNN...')\n",
        "history_deep_bidirectional_simple_rnn = model_deep_bidirectional_simple_rnn.fit(input_train, y_train,\n",
        "                            epochs=10,\n",
        "                            batch_size=128,\n",
        "                            validation_split=0.2)\n",
        "\n",
        "test_loss_deep_bi_rnn, test_acc_deep_bi_rnn = model_deep_bidirectional_simple_rnn.evaluate(input_test, y_test)\n",
        "print('Test accuracy (Deep Bidirectional SimpleRNN):', test_acc_deep_bi_rnn)"
      ],
      "metadata": {
        "colab": {
          "base_uri": "https://localhost:8080/"
        },
        "id": "1dmdvF6FtKX2",
        "outputId": "db9567aa-57f3-428a-c154-6ff95e847223"
      },
      "execution_count": 15,
      "outputs": [
        {
          "output_type": "stream",
          "name": "stdout",
          "text": [
            "Обучение модели с использованием Deep Bidirectional SimpleRNN...\n",
            "Epoch 1/10\n",
            "157/157 [==============================] - 123s 762ms/step - loss: 0.5993 - acc: 0.6579 - val_loss: 0.4631 - val_acc: 0.7950\n",
            "Epoch 2/10\n",
            "157/157 [==============================] - 116s 743ms/step - loss: 0.4002 - acc: 0.8323 - val_loss: 0.5731 - val_acc: 0.7218\n",
            "Epoch 3/10\n",
            "157/157 [==============================] - 117s 743ms/step - loss: 0.3019 - acc: 0.8796 - val_loss: 0.3368 - val_acc: 0.8616\n",
            "Epoch 4/10\n",
            "157/157 [==============================] - 116s 741ms/step - loss: 0.2284 - acc: 0.9126 - val_loss: 0.3664 - val_acc: 0.8522\n",
            "Epoch 5/10\n",
            "157/157 [==============================] - 115s 733ms/step - loss: 0.1693 - acc: 0.9388 - val_loss: 1.0950 - val_acc: 0.6676\n",
            "Epoch 6/10\n",
            "157/157 [==============================] - 115s 736ms/step - loss: 0.1179 - acc: 0.9613 - val_loss: 0.6426 - val_acc: 0.7850\n",
            "Epoch 7/10\n",
            "157/157 [==============================] - 113s 719ms/step - loss: 0.0698 - acc: 0.9775 - val_loss: 0.5522 - val_acc: 0.8396\n",
            "Epoch 8/10\n",
            "157/157 [==============================] - 115s 733ms/step - loss: 0.0451 - acc: 0.9860 - val_loss: 0.6097 - val_acc: 0.8396\n",
            "Epoch 9/10\n",
            "157/157 [==============================] - 115s 732ms/step - loss: 0.0280 - acc: 0.9913 - val_loss: 1.0463 - val_acc: 0.7556\n",
            "Epoch 10/10\n",
            "157/157 [==============================] - 114s 728ms/step - loss: 0.0250 - acc: 0.9913 - val_loss: 0.8946 - val_acc: 0.7836\n",
            "782/782 [==============================] - 64s 82ms/step - loss: 0.8726 - acc: 0.7864\n",
            "Test accuracy (Deep Bidirectional SimpleRNN): 0.7863600254058838\n"
          ]
        }
      ]
    },
    {
      "cell_type": "markdown",
      "source": [
        "Сеть долгой краткосрочной памяти (LSTM)"
      ],
      "metadata": {
        "id": "3FC5HdtEkAzA"
      }
    },
    {
      "cell_type": "code",
      "source": [
        "model_lstm = Sequential()\n",
        "model_lstm.add(Embedding(max_features, 32))\n",
        "model_lstm.add(LSTM(32))\n",
        "model_lstm.add(Dense(1, activation='sigmoid'))\n",
        "\n",
        "model_lstm.compile(optimizer='rmsprop', loss='binary_crossentropy', metrics=['acc'])"
      ],
      "metadata": {
        "id": "5XabuFQSvpV4"
      },
      "execution_count": 16,
      "outputs": []
    },
    {
      "cell_type": "code",
      "source": [
        "print('Обучение модели с использованием LSTM...')\n",
        "history_lstm = model_lstm.fit(input_train, y_train,\n",
        "                            epochs=10,\n",
        "                            batch_size=128,\n",
        "                            validation_split=0.2)\n",
        "\n",
        "test_lstm, test_lstm = model_lstm.evaluate(input_test, y_test)\n",
        "print('Test accuracy (LSTM):', test_lstm)"
      ],
      "metadata": {
        "colab": {
          "base_uri": "https://localhost:8080/"
        },
        "id": "mIbK7RKHwZyX",
        "outputId": "94fa1be2-113c-4d26-b856-ecfa70883ae2"
      },
      "execution_count": 17,
      "outputs": [
        {
          "output_type": "stream",
          "name": "stdout",
          "text": [
            "Обучение модели с использованием LSTM...\n",
            "Epoch 1/10\n",
            "157/157 [==============================] - 57s 354ms/step - loss: 0.5960 - acc: 0.6650 - val_loss: 0.4440 - val_acc: 0.8332\n",
            "Epoch 2/10\n",
            "157/157 [==============================] - 54s 347ms/step - loss: 0.3743 - acc: 0.8461 - val_loss: 0.3423 - val_acc: 0.8576\n",
            "Epoch 3/10\n",
            "157/157 [==============================] - 53s 341ms/step - loss: 0.2786 - acc: 0.8931 - val_loss: 0.3032 - val_acc: 0.8802\n",
            "Epoch 4/10\n",
            "157/157 [==============================] - 54s 347ms/step - loss: 0.2350 - acc: 0.9088 - val_loss: 0.6133 - val_acc: 0.8166\n",
            "Epoch 5/10\n",
            "157/157 [==============================] - 52s 335ms/step - loss: 0.2087 - acc: 0.9229 - val_loss: 0.3635 - val_acc: 0.8394\n",
            "Epoch 6/10\n",
            "157/157 [==============================] - 54s 342ms/step - loss: 0.1897 - acc: 0.9308 - val_loss: 0.4503 - val_acc: 0.8626\n",
            "Epoch 7/10\n",
            "157/157 [==============================] - 55s 351ms/step - loss: 0.1687 - acc: 0.9384 - val_loss: 0.3940 - val_acc: 0.8512\n",
            "Epoch 8/10\n",
            "157/157 [==============================] - 54s 345ms/step - loss: 0.1531 - acc: 0.9463 - val_loss: 0.3194 - val_acc: 0.8746\n",
            "Epoch 9/10\n",
            "157/157 [==============================] - 55s 351ms/step - loss: 0.1388 - acc: 0.9517 - val_loss: 0.3339 - val_acc: 0.8806\n",
            "Epoch 10/10\n",
            "157/157 [==============================] - 53s 337ms/step - loss: 0.1294 - acc: 0.9555 - val_loss: 0.3378 - val_acc: 0.8770\n",
            "782/782 [==============================] - 37s 47ms/step - loss: 0.3680 - acc: 0.8706\n",
            "Test accuracy (LSTM): 0.8705999851226807\n"
          ]
        }
      ]
    },
    {
      "cell_type": "markdown",
      "source": [
        "Углубленная сеть долгой краткосрочной памяти (Deep LSTM)"
      ],
      "metadata": {
        "id": "g9oaCktKkess"
      }
    },
    {
      "cell_type": "code",
      "source": [
        "model_deep_lstm = Sequential()\n",
        "model_deep_lstm.add(Embedding(max_features, 32))\n",
        "model_deep_lstm.add(LSTM(32, return_sequences=True))\n",
        "model_deep_lstm.add(LSTM(32))\n",
        "model_deep_lstm.add(Dense(1, activation='sigmoid'))\n",
        "\n",
        "model_deep_lstm.compile(optimizer='rmsprop', loss='binary_crossentropy', metrics=['acc'])"
      ],
      "metadata": {
        "id": "Ihz9ALaMwJbW"
      },
      "execution_count": 18,
      "outputs": []
    },
    {
      "cell_type": "code",
      "source": [
        "print('Обучение модели с использованием Deep LSTM...')\n",
        "history_deep_lstm = model_deep_lstm.fit(input_train, y_train,\n",
        "                            epochs=10,\n",
        "                            batch_size=128,\n",
        "                            validation_split=0.2)\n",
        "\n",
        "test_loss_deep_lstm, test_acc_deep_lstm = model_deep_lstm.evaluate(input_test, y_test)\n",
        "print('Test accuracy (Deep LSTM):', test_acc_deep_lstm)"
      ],
      "metadata": {
        "colab": {
          "base_uri": "https://localhost:8080/"
        },
        "id": "KuE8q_x2wYbu",
        "outputId": "1a176c9e-09da-488d-aa67-ee4027c9fe73"
      },
      "execution_count": 19,
      "outputs": [
        {
          "output_type": "stream",
          "name": "stdout",
          "text": [
            "Обучение модели с использованием Deep LSTM...\n",
            "Epoch 1/10\n",
            "157/157 [==============================] - 113s 697ms/step - loss: 0.5842 - acc: 0.6652 - val_loss: 0.3736 - val_acc: 0.8394\n",
            "Epoch 2/10\n",
            "157/157 [==============================] - 108s 689ms/step - loss: 0.3485 - acc: 0.8542 - val_loss: 0.3511 - val_acc: 0.8600\n",
            "Epoch 3/10\n",
            "157/157 [==============================] - 109s 697ms/step - loss: 0.2653 - acc: 0.8955 - val_loss: 0.6529 - val_acc: 0.7922\n",
            "Epoch 4/10\n",
            "157/157 [==============================] - 109s 696ms/step - loss: 0.2286 - acc: 0.9153 - val_loss: 0.3787 - val_acc: 0.8406\n",
            "Epoch 5/10\n",
            "157/157 [==============================] - 109s 696ms/step - loss: 0.1929 - acc: 0.9294 - val_loss: 0.3653 - val_acc: 0.8542\n",
            "Epoch 6/10\n",
            "157/157 [==============================] - 109s 693ms/step - loss: 0.1717 - acc: 0.9367 - val_loss: 0.3174 - val_acc: 0.8726\n",
            "Epoch 7/10\n",
            "157/157 [==============================] - 110s 701ms/step - loss: 0.1579 - acc: 0.9428 - val_loss: 0.4705 - val_acc: 0.8296\n",
            "Epoch 8/10\n",
            "157/157 [==============================] - 108s 691ms/step - loss: 0.1404 - acc: 0.9514 - val_loss: 0.3163 - val_acc: 0.8736\n",
            "Epoch 9/10\n",
            "157/157 [==============================] - 108s 688ms/step - loss: 0.1233 - acc: 0.9581 - val_loss: 0.3379 - val_acc: 0.8682\n",
            "Epoch 10/10\n",
            "157/157 [==============================] - 108s 692ms/step - loss: 0.1116 - acc: 0.9631 - val_loss: 0.4162 - val_acc: 0.8792\n",
            "782/782 [==============================] - 69s 89ms/step - loss: 0.4682 - acc: 0.8667\n",
            "Test accuracy (Deep LSTM): 0.8666800260543823\n"
          ]
        }
      ]
    },
    {
      "cell_type": "markdown",
      "source": [
        "Двунаправленная сеть долгой краткосрочной памяти (Bidirectional LSTM)"
      ],
      "metadata": {
        "id": "CROObTgNlFJ-"
      }
    },
    {
      "cell_type": "code",
      "source": [
        "model_bidirectional_lstm = Sequential()\n",
        "model_bidirectional_lstm.add(Embedding(max_features, 32))\n",
        "model_bidirectional_lstm.add(Bidirectional(LSTM(32)))\n",
        "model_bidirectional_lstm.add(Dense(1, activation='sigmoid'))\n",
        "\n",
        "model_bidirectional_lstm.compile(optimizer='rmsprop', loss='binary_crossentropy', metrics=['acc'])"
      ],
      "metadata": {
        "id": "w-KuLQ_PwNw6"
      },
      "execution_count": 20,
      "outputs": []
    },
    {
      "cell_type": "code",
      "source": [
        "print('Обучение модели с использованием Bidirectional LSTM...')\n",
        "history_bi_lstm = model_bidirectional_lstm.fit(input_train, y_train,\n",
        "                            epochs=10,\n",
        "                            batch_size=128,\n",
        "                            validation_split=0.2)\n",
        "\n",
        "test_loss_bi_lstm, test_acc_bi_lstm = model_bidirectional_lstm.evaluate(input_test, y_test)\n",
        "print('Test accuracy (Bidirectional LSTM):', test_acc_bi_lstm)\n"
      ],
      "metadata": {
        "colab": {
          "base_uri": "https://localhost:8080/"
        },
        "id": "xP5TgxsMwWcV",
        "outputId": "75407121-15d1-493a-bfcd-3f6a71833244"
      },
      "execution_count": 21,
      "outputs": [
        {
          "output_type": "stream",
          "name": "stdout",
          "text": [
            "Обучение модели с использованием Bidirectional LSTM...\n",
            "Epoch 1/10\n",
            "157/157 [==============================] - 102s 621ms/step - loss: 0.6331 - acc: 0.6302 - val_loss: 0.4612 - val_acc: 0.8136\n",
            "Epoch 2/10\n",
            "157/157 [==============================] - 97s 622ms/step - loss: 0.3915 - acc: 0.8389 - val_loss: 0.3844 - val_acc: 0.8406\n",
            "Epoch 3/10\n",
            "157/157 [==============================] - 99s 630ms/step - loss: 0.2902 - acc: 0.8870 - val_loss: 0.3260 - val_acc: 0.8624\n",
            "Epoch 4/10\n",
            "157/157 [==============================] - 98s 624ms/step - loss: 0.2386 - acc: 0.9093 - val_loss: 0.3501 - val_acc: 0.8662\n",
            "Epoch 5/10\n",
            "157/157 [==============================] - 98s 626ms/step - loss: 0.2082 - acc: 0.9238 - val_loss: 0.3260 - val_acc: 0.8654\n",
            "Epoch 6/10\n",
            "157/157 [==============================] - 96s 614ms/step - loss: 0.1896 - acc: 0.9302 - val_loss: 0.3220 - val_acc: 0.8594\n",
            "Epoch 7/10\n",
            "157/157 [==============================] - 98s 627ms/step - loss: 0.1688 - acc: 0.9399 - val_loss: 0.3209 - val_acc: 0.8768\n",
            "Epoch 8/10\n",
            "157/157 [==============================] - 96s 612ms/step - loss: 0.1557 - acc: 0.9443 - val_loss: 0.3123 - val_acc: 0.8702\n",
            "Epoch 9/10\n",
            "157/157 [==============================] - 97s 620ms/step - loss: 0.1423 - acc: 0.9510 - val_loss: 0.3210 - val_acc: 0.8634\n",
            "Epoch 10/10\n",
            "157/157 [==============================] - 98s 626ms/step - loss: 0.1320 - acc: 0.9552 - val_loss: 0.6296 - val_acc: 0.8008\n",
            "782/782 [==============================] - 58s 74ms/step - loss: 0.6283 - acc: 0.8006\n",
            "Test accuracy (Bidirectional LSTM): 0.8005599975585938\n"
          ]
        }
      ]
    },
    {
      "cell_type": "markdown",
      "source": [
        "Углубленная двунаправленная сеть долгой краткосрочной памяти (Deep Bidirectional LSTM)"
      ],
      "metadata": {
        "id": "Pnf5Lj-YliQ5"
      }
    },
    {
      "cell_type": "code",
      "source": [
        "model_deep_bidirectional_lstm = Sequential()\n",
        "model_deep_bidirectional_lstm.add(Embedding(max_features, 32))\n",
        "model_deep_bidirectional_lstm.add(Bidirectional(LSTM(32, return_sequences=True)))\n",
        "model_deep_bidirectional_lstm.add(Bidirectional(LSTM(32)))\n",
        "model_deep_bidirectional_lstm.add(Dense(1, activation='sigmoid'))\n",
        "\n",
        "model_deep_bidirectional_lstm.compile(optimizer='rmsprop', loss='binary_crossentropy', metrics=['acc'])"
      ],
      "metadata": {
        "id": "e4JvqD77wRq_"
      },
      "execution_count": 22,
      "outputs": []
    },
    {
      "cell_type": "code",
      "source": [
        "print('Обучение модели с использованием Deep Bidirectional LSTM...')\n",
        "history_deep_bi_lstm = model_deep_bidirectional_lstm.fit(input_train, y_train,\n",
        "                            epochs=10,\n",
        "                            batch_size=128,\n",
        "                            validation_split=0.2)\n",
        "\n",
        "test_loss_deep_bi_lstm, test_acc_deep_bi_lstm = model_deep_bidirectional_lstm.evaluate(input_test, y_test)\n",
        "print('Test accuracy (Deep Bidirectional LSTM):', test_acc_deep_bi_lstm)"
      ],
      "metadata": {
        "colab": {
          "base_uri": "https://localhost:8080/"
        },
        "id": "o88XcL84w88_",
        "outputId": "983af2b1-bafd-4bb9-aa8c-e59f46f654e3"
      },
      "execution_count": 23,
      "outputs": [
        {
          "output_type": "stream",
          "name": "stdout",
          "text": [
            "Обучение модели с использованием Deep Bidirectional LSTM...\n",
            "Epoch 1/10\n",
            "157/157 [==============================] - 223s 1s/step - loss: 0.6367 - acc: 0.6003 - val_loss: 0.6653 - val_acc: 0.6768\n",
            "Epoch 2/10\n",
            "157/157 [==============================] - 216s 1s/step - loss: 0.3691 - acc: 0.8415 - val_loss: 0.3213 - val_acc: 0.8712\n",
            "Epoch 3/10\n",
            "157/157 [==============================] - 217s 1s/step - loss: 0.2743 - acc: 0.8930 - val_loss: 0.2914 - val_acc: 0.8808\n",
            "Epoch 4/10\n",
            "157/157 [==============================] - 216s 1s/step - loss: 0.2246 - acc: 0.9132 - val_loss: 0.4631 - val_acc: 0.8402\n",
            "Epoch 5/10\n",
            "157/157 [==============================] - 220s 1s/step - loss: 0.1871 - acc: 0.9305 - val_loss: 0.2979 - val_acc: 0.8796\n",
            "Epoch 6/10\n",
            "157/157 [==============================] - 217s 1s/step - loss: 0.1607 - acc: 0.9438 - val_loss: 0.3451 - val_acc: 0.8820\n",
            "Epoch 7/10\n",
            "157/157 [==============================] - 217s 1s/step - loss: 0.1371 - acc: 0.9525 - val_loss: 0.3606 - val_acc: 0.8606\n",
            "Epoch 8/10\n",
            "157/157 [==============================] - 219s 1s/step - loss: 0.1194 - acc: 0.9603 - val_loss: 0.4302 - val_acc: 0.8482\n",
            "Epoch 9/10\n",
            "157/157 [==============================] - 221s 1s/step - loss: 0.1052 - acc: 0.9648 - val_loss: 0.4216 - val_acc: 0.8492\n",
            "Epoch 10/10\n",
            "157/157 [==============================] - 220s 1s/step - loss: 0.0883 - acc: 0.9714 - val_loss: 0.4467 - val_acc: 0.8484\n",
            "782/782 [==============================] - 128s 164ms/step - loss: 0.4662 - acc: 0.8452\n",
            "Test accuracy (Deep Bidirectional LSTM): 0.8452000021934509\n"
          ]
        }
      ]
    },
    {
      "cell_type": "code",
      "source": [
        "models_test_acc = [test_acc_gru, test_acc_rnn, test_acc_deep_rnn, test_acc_bi_rnn, test_acc_deep_bi_rnn,\n",
        "               test_lstm, test_acc_deep_lstm, test_acc_bi_lstm, test_acc_deep_bi_lstm]\n",
        "\n",
        "model_names = ['GRU', 'SimpleRNN', 'Deep SimpleRNN', 'Bidirectional SimpleRNN',\n",
        "               'Deep Bidirectional SimpleRNN', 'LSTM', 'Deep LSTM',\n",
        "               'Bidirectional LSTM', 'Deep Bidirectional LSTM']\n",
        "print('Сравнение моделей\\n')\n",
        "for test_acc, name in zip(models_test_acc, model_names):\n",
        "    print(f'Test accuracy({name}): {test_acc} \\n')"
      ],
      "metadata": {
        "colab": {
          "base_uri": "https://localhost:8080/"
        },
        "id": "CG0Vuopf4__8",
        "outputId": "4e2f5859-d261-47f8-aa2d-62f3b964c842"
      },
      "execution_count": 24,
      "outputs": [
        {
          "output_type": "stream",
          "name": "stdout",
          "text": [
            "Сравнение моделей\n",
            "\n",
            "Test accuracy(GRU): 0.8635600209236145 \n",
            "\n",
            "Test accuracy(SimpleRNN): 0.8303999900817871 \n",
            "\n",
            "Test accuracy(Deep SimpleRNN): 0.7918400168418884 \n",
            "\n",
            "Test accuracy(Bidirectional SimpleRNN): 0.8467599749565125 \n",
            "\n",
            "Test accuracy(Deep Bidirectional SimpleRNN): 0.7863600254058838 \n",
            "\n",
            "Test accuracy(LSTM): 0.8705999851226807 \n",
            "\n",
            "Test accuracy(Deep LSTM): 0.8666800260543823 \n",
            "\n",
            "Test accuracy(Bidirectional LSTM): 0.8005599975585938 \n",
            "\n",
            "Test accuracy(Deep Bidirectional LSTM): 0.8452000021934509 \n",
            "\n"
          ]
        }
      ]
    }
  ]
}